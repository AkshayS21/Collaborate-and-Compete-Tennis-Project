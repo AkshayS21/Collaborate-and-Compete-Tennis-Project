{
 "cells": [
  {
   "cell_type": "markdown",
   "metadata": {},
   "source": [
    "## Tennis Weights Evaluation"
   ]
  },
  {
   "cell_type": "code",
   "execution_count": 1,
   "metadata": {},
   "outputs": [
    {
     "name": "stderr",
     "output_type": "stream",
     "text": [
      "INFO:unityagents:\n",
      "'Academy' started successfully!\n",
      "Unity Academy name: Academy\n",
      "        Number of Brains: 1\n",
      "        Number of External Brains : 1\n",
      "        Lesson number : 0\n",
      "        Reset Parameters :\n",
      "\t\t\n",
      "Unity brain name: TennisBrain\n",
      "        Number of Visual Observations (per agent): 0\n",
      "        Vector Observation space type: continuous\n",
      "        Vector Observation space size (per agent): 8\n",
      "        Number of stacked Vector Observation: 3\n",
      "        Vector Action space type: continuous\n",
      "        Vector Action space size (per agent): 2\n",
      "        Vector Action descriptions: , \n"
     ]
    }
   ],
   "source": [
    "from unityagents import UnityEnvironment\n",
    "import numpy as np\n",
    "\n",
    "env = UnityEnvironment(file_name=\"Tennis.exe\")"
   ]
  },
  {
   "cell_type": "code",
   "execution_count": 2,
   "metadata": {},
   "outputs": [],
   "source": [
    "# get the default brain\n",
    "brain_name = env.brain_names[0]\n",
    "brain = env.brains[brain_name]"
   ]
  },
  {
   "cell_type": "code",
   "execution_count": null,
   "metadata": {},
   "outputs": [],
   "source": [
    "# reset the environment\n",
    "env_info = env.reset(train_mode=True)[brain_name]\n",
    "\n",
    "# number of agents \n",
    "num_agents = len(env_info.agents)\n",
    "print('Number of agents:', num_agents)\n",
    "\n",
    "# size of each action\n",
    "action_size = brain.vector_action_space_size\n",
    "print('Size of each action:', action_size)\n",
    "\n",
    "# examine the state space \n",
    "states = env_info.vector_observations\n",
    "state_size = states.shape[1]\n",
    "print('There are {} agents. Each observes a state with length: {}'.format(states.shape[0], state_size))\n",
    "print('The state for the first agent looks like:', states[0])\n",
    "\n",
    "rewards = env_info.rewards\n",
    "rewards = np.asarray(rewards)\n",
    "print(\"rewards shape:\", (rewards.shape))"
   ]
  },
  {
   "cell_type": "code",
   "execution_count": 3,
   "metadata": {},
   "outputs": [],
   "source": [
    "import importlib\n",
    "import maddpg\n",
    "import model\n",
    "import ddpg"
   ]
  },
  {
   "cell_type": "code",
   "execution_count": 4,
   "metadata": {},
   "outputs": [],
   "source": [
    "parent = maddpg.Parent(update_every = 2)"
   ]
  },
  {
   "cell_type": "code",
   "execution_count": 11,
   "metadata": {},
   "outputs": [
    {
     "name": "stdout",
     "output_type": "stream",
     "text": [
      "Total score (averaged over agents) this episode: 0.05\n",
      "Total score (averaged over agents) this episode: 0.05\n",
      "Total score (averaged over agents) this episode: 0.55\n",
      "Total score (averaged over agents) this episode: 0.60\n",
      "Total score (averaged over agents) this episode: 0.25\n"
     ]
    }
   ],
   "source": [
    "import torch\n",
    "parent = maddpg.Parent()\n",
    "\n",
    "\n",
    "parent.madagents[0].actor_local.load_state_dict(torch.load('weights/actor_agent_0_1.969.pth',map_location= 'cpu'))\n",
    "parent.madagents[0].critic_local.load_state_dict(torch.load('weights/critic_agent_0_1.969.pth',map_location= 'cpu'))\n",
    "\n",
    "parent.madagents[1].actor_local.load_state_dict(torch.load('weights/actor_agent_1_1.969.pth',map_location= 'cpu'))\n",
    "parent.madagents[1].critic_local.load_state_dict(torch.load('weights/critic_agent_1_1.969.pth',map_location= 'cpu'))\n",
    "\n",
    "for i in range(5):                                         # play game for 5 episodes\n",
    "    env_info = env.reset(train_mode=False)[brain_name]     # reset the environment    \n",
    "    states = env_info.vector_observations                  # get the current state (for each agent)\n",
    "    scores = np.zeros(num_agents)                          # initialize the score (for each agent)\n",
    "    while True:\n",
    "        actions = parent.local_actions(states,noise = 0,rand = 0) # select an action (for each agent)\n",
    "        #actions = np.clip(actions, -1, 1)                  # all actions between -1 and 1\n",
    "        env_info = env.step(actions)[brain_name]           # send all actions to tne environment\n",
    "        next_states = env_info.vector_observations         # get next state (for each agent)\n",
    "        rewards = env_info.rewards                         # get reward (for each agent)\n",
    "        #print(len(rewards))\n",
    "        dones = env_info.local_done                        # see if episode finished\n",
    "        #print(len(dones))\n",
    "        scores += env_info.rewards                         # update the score (for each agent)\n",
    "        states = next_states                               # roll over states to next time step\n",
    "        if np.any(dones):                                  # exit loop if episode finished\n",
    "            break\n",
    "    print('Total score (averaged over agents) this episode: {:.2f}'.format(np.mean(scores)))"
   ]
  },
  {
   "cell_type": "code",
   "execution_count": null,
   "metadata": {},
   "outputs": [],
   "source": []
  },
  {
   "cell_type": "code",
   "execution_count": 8,
   "metadata": {},
   "outputs": [
    {
     "name": "stdout",
     "output_type": "stream",
     "text": [
      "Total score (averaged over agents) this episode: 1.30\n",
      "Total score (averaged over agents) this episode: 0.80\n",
      "Total score (averaged over agents) this episode: 2.55\n",
      "Total score (averaged over agents) this episode: 0.65\n",
      "Total score (averaged over agents) this episode: 2.55\n"
     ]
    }
   ],
   "source": [
    "import torch\n",
    "parent = maddpg.Parent()\n",
    "\n",
    "\n",
    "parent.madagents[0].actor_local.load_state_dict(torch.load('weights/actor_agent_0_1.595.pth',map_location= 'cpu'))\n",
    "parent.madagents[0].critic_local.load_state_dict(torch.load('weights/critic_agent_0_1.595.pth',map_location= 'cpu'))\n",
    "\n",
    "parent.madagents[1].actor_local.load_state_dict(torch.load('weights/actor_agent_1_1.595.pth',map_location= 'cpu'))\n",
    "parent.madagents[1].critic_local.load_state_dict(torch.load('weights/critic_agent_1_1.595.pth',map_location= 'cpu'))\n",
    "\n",
    "for i in range(5):                                         # play game for 5 episodes\n",
    "    env_info = env.reset(train_mode=False)[brain_name]     # reset the environment    \n",
    "    states = env_info.vector_observations                  # get the current state (for each agent)\n",
    "    scores = np.zeros(num_agents)                          # initialize the score (for each agent)\n",
    "    while True:\n",
    "        actions = parent.local_actions(states,noise = 0,rand = 0) # select an action (for each agent)\n",
    "        #actions = np.clip(actions, -1, 1)                  # all actions between -1 and 1\n",
    "        env_info = env.step(actions)[brain_name]           # send all actions to tne environment\n",
    "        next_states = env_info.vector_observations         # get next state (for each agent)\n",
    "        rewards = env_info.rewards                         # get reward (for each agent)\n",
    "        #print(len(rewards))\n",
    "        dones = env_info.local_done                        # see if episode finished\n",
    "        #print(len(dones))\n",
    "        scores += env_info.rewards                         # update the score (for each agent)\n",
    "        states = next_states                               # roll over states to next time step\n",
    "        if np.any(dones):                                  # exit loop if episode finished\n",
    "            break\n",
    "    print('Total score (averaged over agents) this episode: {:.2f}'.format(np.mean(scores)))"
   ]
  },
  {
   "cell_type": "markdown",
   "metadata": {},
   "source": [
    "env.close()"
   ]
  },
  {
   "cell_type": "code",
   "execution_count": 9,
   "metadata": {},
   "outputs": [
    {
     "name": "stdout",
     "output_type": "stream",
     "text": [
      "Total score (averaged over agents) this episode: 2.65\n",
      "Total score (averaged over agents) this episode: 0.10\n",
      "Total score (averaged over agents) this episode: 2.60\n",
      "Total score (averaged over agents) this episode: 0.25\n",
      "Total score (averaged over agents) this episode: 2.65\n"
     ]
    }
   ],
   "source": [
    "import torch\n",
    "parent = maddpg.Parent()\n",
    "\n",
    "\n",
    "parent.madagents[0].actor_local.load_state_dict(torch.load('weights/actor_agent_0_1.002.pth',map_location= 'cpu'))\n",
    "parent.madagents[0].critic_local.load_state_dict(torch.load('weights/critic_agent_0_1.002.pth',map_location= 'cpu'))\n",
    "\n",
    "parent.madagents[1].actor_local.load_state_dict(torch.load('weights/actor_agent_1_1.002.pth',map_location= 'cpu'))\n",
    "parent.madagents[1].critic_local.load_state_dict(torch.load('weights/critic_agent_1_1.002.pth',map_location= 'cpu'))\n",
    "\n",
    "for i in range(5):                                         # play game for 5 episodes\n",
    "    env_info = env.reset(train_mode=False)[brain_name]     # reset the environment    \n",
    "    states = env_info.vector_observations                  # get the current state (for each agent)\n",
    "    scores = np.zeros(num_agents)                          # initialize the score (for each agent)\n",
    "    while True:\n",
    "        actions = parent.local_actions(states,noise = 0,rand = 0) # select an action (for each agent)\n",
    "        #actions = np.clip(actions, -1, 1)                  # all actions between -1 and 1\n",
    "        env_info = env.step(actions)[brain_name]           # send all actions to tne environment\n",
    "        next_states = env_info.vector_observations         # get next state (for each agent)\n",
    "        rewards = env_info.rewards                         # get reward (for each agent)\n",
    "        #print(len(rewards))\n",
    "        dones = env_info.local_done                        # see if episode finished\n",
    "        #print(len(dones))\n",
    "        scores += env_info.rewards                         # update the score (for each agent)\n",
    "        states = next_states                               # roll over states to next time step\n",
    "        if np.any(dones):                                  # exit loop if episode finished\n",
    "            break\n",
    "    print('Total score (averaged over agents) this episode: {:.2f}'.format(np.mean(scores)))"
   ]
  },
  {
   "cell_type": "code",
   "execution_count": 10,
   "metadata": {},
   "outputs": [
    {
     "name": "stdout",
     "output_type": "stream",
     "text": [
      "Total score (averaged over agents) this episode: 2.60\n",
      "Total score (averaged over agents) this episode: 2.65\n",
      "Total score (averaged over agents) this episode: 2.60\n",
      "Total score (averaged over agents) this episode: 2.65\n",
      "Total score (averaged over agents) this episode: 2.65\n"
     ]
    }
   ],
   "source": [
    "import torch\n",
    "parent = maddpg.Parent()\n",
    "\n",
    "\n",
    "parent.madagents[0].actor_local.load_state_dict(torch.load('weights/actor_agent_0_1.218.pth',map_location= 'cpu'))\n",
    "parent.madagents[0].critic_local.load_state_dict(torch.load('weights/critic_agent_0_1.218.pth',map_location= 'cpu'))\n",
    "\n",
    "parent.madagents[1].actor_local.load_state_dict(torch.load('weights/actor_agent_1_1.218.pth',map_location= 'cpu'))\n",
    "parent.madagents[1].critic_local.load_state_dict(torch.load('weights/critic_agent_1_1.218.pth',map_location= 'cpu'))\n",
    "\n",
    "for i in range(5):                                         # play game for 5 episodes\n",
    "    env_info = env.reset(train_mode=False)[brain_name]     # reset the environment    \n",
    "    states = env_info.vector_observations                  # get the current state (for each agent)\n",
    "    scores = np.zeros(num_agents)                          # initialize the score (for each agent)\n",
    "    while True:\n",
    "        actions = parent.local_actions(states,noise = 0,rand = 0) # select an action (for each agent)\n",
    "        #actions = np.clip(actions, -1, 1)                  # all actions between -1 and 1\n",
    "        env_info = env.step(actions)[brain_name]           # send all actions to tne environment\n",
    "        next_states = env_info.vector_observations         # get next state (for each agent)\n",
    "        rewards = env_info.rewards                         # get reward (for each agent)\n",
    "        #print(len(rewards))\n",
    "        dones = env_info.local_done                        # see if episode finished\n",
    "        #print(len(dones))\n",
    "        scores += env_info.rewards                         # update the score (for each agent)\n",
    "        states = next_states                               # roll over states to next time step\n",
    "        if np.any(dones):                                  # exit loop if episode finished\n",
    "            break\n",
    "    print('Total score (averaged over agents) this episode: {:.2f}'.format(np.mean(scores)))"
   ]
  },
  {
   "cell_type": "code",
   "execution_count": 12,
   "metadata": {},
   "outputs": [
    {
     "name": "stdout",
     "output_type": "stream",
     "text": [
      "Total score (averaged over agents) this episode: 0.15\n",
      "Total score (averaged over agents) this episode: 0.25\n",
      "Total score (averaged over agents) this episode: 0.05\n",
      "Total score (averaged over agents) this episode: 0.60\n",
      "Total score (averaged over agents) this episode: 0.05\n"
     ]
    }
   ],
   "source": [
    "import torch\n",
    "parent = maddpg.Parent()\n",
    "\n",
    "\n",
    "parent.madagents[0].actor_local.load_state_dict(torch.load('weights/actor_agent_0_0.501.pth',map_location= 'cpu'))\n",
    "parent.madagents[0].critic_local.load_state_dict(torch.load('weights/critic_agent_0_0.501.pth',map_location= 'cpu'))\n",
    "\n",
    "parent.madagents[1].actor_local.load_state_dict(torch.load('weights/actor_agent_1_0.501.pth',map_location= 'cpu'))\n",
    "parent.madagents[1].critic_local.load_state_dict(torch.load('weights/critic_agent_1_0.501.pth',map_location= 'cpu'))\n",
    "\n",
    "for i in range(5):                                         # play game for 5 episodes\n",
    "    env_info = env.reset(train_mode=False)[brain_name]     # reset the environment    \n",
    "    states = env_info.vector_observations                  # get the current state (for each agent)\n",
    "    scores = np.zeros(num_agents)                          # initialize the score (for each agent)\n",
    "    while True:\n",
    "        actions = parent.local_actions(states,noise = 0,rand = 0) # select an action (for each agent)\n",
    "        #actions = np.clip(actions, -1, 1)                  # all actions between -1 and 1\n",
    "        env_info = env.step(actions)[brain_name]           # send all actions to tne environment\n",
    "        next_states = env_info.vector_observations         # get next state (for each agent)\n",
    "        rewards = env_info.rewards                         # get reward (for each agent)\n",
    "        #print(len(rewards))\n",
    "        dones = env_info.local_done                        # see if episode finished\n",
    "        #print(len(dones))\n",
    "        scores += env_info.rewards                         # update the score (for each agent)\n",
    "        states = next_states                               # roll over states to next time step\n",
    "        if np.any(dones):                                  # exit loop if episode finished\n",
    "            break\n",
    "    print('Total score (averaged over agents) this episode: {:.2f}'.format(np.mean(scores)))"
   ]
  },
  {
   "cell_type": "code",
   "execution_count": null,
   "metadata": {},
   "outputs": [],
   "source": []
  }
 ],
 "metadata": {
  "kernelspec": {
   "display_name": "Python 3",
   "language": "python",
   "name": "python3"
  },
  "language_info": {
   "codemirror_mode": {
    "name": "ipython",
    "version": 3
   },
   "file_extension": ".py",
   "mimetype": "text/x-python",
   "name": "python",
   "nbconvert_exporter": "python",
   "pygments_lexer": "ipython3",
   "version": "3.6.5"
  }
 },
 "nbformat": 4,
 "nbformat_minor": 2
}
